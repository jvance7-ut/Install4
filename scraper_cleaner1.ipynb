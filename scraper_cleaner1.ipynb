{
  "nbformat": 4,
  "nbformat_minor": 0,
  "metadata": {
    "colab": {
      "provenance": [],
      "authorship_tag": "ABX9TyPsXQnkBbXGbJzkhycn2MpT",
      "include_colab_link": true
    },
    "kernelspec": {
      "name": "python3",
      "display_name": "Python 3"
    },
    "language_info": {
      "name": "python"
    }
  },
  "cells": [
    {
      "cell_type": "markdown",
      "metadata": {
        "id": "view-in-github",
        "colab_type": "text"
      },
      "source": [
        "<a href=\"https://colab.research.google.com/github/jvance7-ut/Install4/blob/main/scraper_cleaner1.ipynb\" target=\"_parent\"><img src=\"https://colab.research.google.com/assets/colab-badge.svg\" alt=\"Open In Colab\"/></a>"
      ]
    },
    {
      "cell_type": "markdown",
      "source": [
        "#Please note that it is not legal to scrape all sites.  Please check current standards for the site you intend to scrape."
      ],
      "metadata": {
        "id": "zr2ZqwxYMRZV"
      }
    },
    {
      "cell_type": "markdown",
      "source": [
        "Author: Jennifer Vance - Feb. 2025"
      ],
      "metadata": {
        "id": "9lqgS7pkwzsL"
      }
    },
    {
      "cell_type": "markdown",
      "source": [
        "BeautifulSoup Scraper tutorial\n",
        "\n",
        "https://finance.yahoo.com/markets/stocks/most-active/\n"
      ],
      "metadata": {
        "id": "7i5AnVD1jW6W"
      }
    },
    {
      "cell_type": "markdown",
      "source": [
        "\n",
        "**Import packages**"
      ],
      "metadata": {
        "id": "Jd4ro_gqMkmL"
      }
    },
    {
      "cell_type": "code",
      "source": [
        "#install packages if needed\n",
        "#!pip install numpy==1.19.5\n",
        "#!pip install beautifulsoup4==4.6.3\n",
        "#https://finance.yahoo.com/markets/stocks/most-active/?start=25&count=100"
      ],
      "metadata": {
        "collapsed": true,
        "id": "-pAXAaSKjplj",
        "colab": {
          "base_uri": "https://localhost:8080/"
        },
        "outputId": "768064c1-f1b3-46c7-897d-9e763c730d4d"
      },
      "execution_count": null,
      "outputs": [
        {
          "output_type": "stream",
          "name": "stdout",
          "text": [
            "Requirement already satisfied: yfinance in /usr/local/lib/python3.11/dist-packages (0.2.55)\n",
            "Requirement already satisfied: pandas>=1.3.0 in /usr/local/lib/python3.11/dist-packages (from yfinance) (2.2.2)\n",
            "Requirement already satisfied: numpy>=1.16.5 in /usr/local/lib/python3.11/dist-packages (from yfinance) (2.0.2)\n",
            "Requirement already satisfied: requests>=2.31 in /usr/local/lib/python3.11/dist-packages (from yfinance) (2.32.3)\n",
            "Requirement already satisfied: multitasking>=0.0.7 in /usr/local/lib/python3.11/dist-packages (from yfinance) (0.0.11)\n",
            "Requirement already satisfied: platformdirs>=2.0.0 in /usr/local/lib/python3.11/dist-packages (from yfinance) (4.3.7)\n",
            "Requirement already satisfied: pytz>=2022.5 in /usr/local/lib/python3.11/dist-packages (from yfinance) (2025.2)\n",
            "Requirement already satisfied: frozendict>=2.3.4 in /usr/local/lib/python3.11/dist-packages (from yfinance) (2.4.6)\n",
            "Requirement already satisfied: peewee>=3.16.2 in /usr/local/lib/python3.11/dist-packages (from yfinance) (3.17.9)\n",
            "Requirement already satisfied: beautifulsoup4>=4.11.1 in /usr/local/lib/python3.11/dist-packages (from yfinance) (4.13.4)\n",
            "Requirement already satisfied: soupsieve>1.2 in /usr/local/lib/python3.11/dist-packages (from beautifulsoup4>=4.11.1->yfinance) (2.6)\n",
            "Requirement already satisfied: typing-extensions>=4.0.0 in /usr/local/lib/python3.11/dist-packages (from beautifulsoup4>=4.11.1->yfinance) (4.13.2)\n",
            "Requirement already satisfied: python-dateutil>=2.8.2 in /usr/local/lib/python3.11/dist-packages (from pandas>=1.3.0->yfinance) (2.8.2)\n",
            "Requirement already satisfied: tzdata>=2022.7 in /usr/local/lib/python3.11/dist-packages (from pandas>=1.3.0->yfinance) (2025.2)\n",
            "Requirement already satisfied: charset-normalizer<4,>=2 in /usr/local/lib/python3.11/dist-packages (from requests>=2.31->yfinance) (3.4.1)\n",
            "Requirement already satisfied: idna<4,>=2.5 in /usr/local/lib/python3.11/dist-packages (from requests>=2.31->yfinance) (3.10)\n",
            "Requirement already satisfied: urllib3<3,>=1.21.1 in /usr/local/lib/python3.11/dist-packages (from requests>=2.31->yfinance) (2.3.0)\n",
            "Requirement already satisfied: certifi>=2017.4.17 in /usr/local/lib/python3.11/dist-packages (from requests>=2.31->yfinance) (2025.1.31)\n",
            "Requirement already satisfied: six>=1.5 in /usr/local/lib/python3.11/dist-packages (from python-dateutil>=2.8.2->pandas>=1.3.0->yfinance) (1.17.0)\n"
          ]
        }
      ]
    },
    {
      "cell_type": "code",
      "source": [
        "from bs4 import BeautifulSoup #scraping\n",
        "import requests #Open URL\n",
        "import pandas as pd #dataframe\n",
        "import time"
      ],
      "metadata": {
        "id": "UGacXxEajbEw"
      },
      "execution_count": null,
      "outputs": []
    },
    {
      "cell_type": "markdown",
      "source": [
        "**Scrape the data**"
      ],
      "metadata": {
        "id": "u4nP7tHGsCd-"
      }
    },
    {
      "cell_type": "code",
      "source": [
        "#making a GET request\n",
        "r = requests.get('https://finance.yahoo.com/markets/stocks/most-active/?start=25&count=100')\n",
        "\n",
        "if r.status_code == 429:\n",
        "    retry_after = r.headers.get('Retry-After')\n",
        "    if retry_after:\n",
        "        time.sleep(int(retry_after))\n",
        "    else:\n",
        "        time.sleep(100) # If no Retry-After header, wait for 100 seconds as a default\n",
        "    r = requests.get('https://finance.yahoo.com/markets/stocks/most-active/?start=25&count=100') # Retry the request\n",
        "\n",
        "soup = BeautifulSoup(r.content, 'html.parser')\n",
        "\n",
        "#check status code for response received\n",
        "#success code - 200\n",
        "#too many requests - 429 (error code)\n",
        "print(r)\n"
      ],
      "metadata": {
        "colab": {
          "base_uri": "https://localhost:8080/"
        },
        "id": "AWK2OvE0lv1i",
        "outputId": "977320c8-4057-42d0-e4f6-2c483cc3b211"
      },
      "execution_count": null,
      "outputs": [
        {
          "output_type": "stream",
          "name": "stdout",
          "text": [
            "<Response [429]>\n"
          ]
        }
      ]
    },
    {
      "cell_type": "code",
      "source": [
        "##parsing the HTML\n",
        "soup = BeautifulSoup(r.content, 'html.parser')\n",
        "print(soup.prettify())"
      ],
      "metadata": {
        "id": "GTlbiY-Rr_p4",
        "colab": {
          "base_uri": "https://localhost:8080/"
        },
        "outputId": "36501cfb-2da8-4920-8fad-c739780ee8f4"
      },
      "execution_count": null,
      "outputs": [
        {
          "output_type": "stream",
          "name": "stdout",
          "text": [
            "Edge: Too Many Requests\n",
            "\n"
          ]
        }
      ]
    },
    {
      "cell_type": "markdown",
      "source": [],
      "metadata": {
        "id": "zIEYcpv-W5Lv"
      }
    },
    {
      "cell_type": "code",
      "source": [
        "#we want the table values\n",
        "#the HTML value for our table is class_= yf-paf8n5\n",
        "#if you need help finding what values you want:\n",
        "#1. go to the website\n",
        "#2. right click and select 'Inspect' from the menu\n",
        "#3. hover over the HTML until ONLY THE AREA YOU WANT is blue\n",
        "#4. use the HTML tags from that line\n",
        "\n",
        "table_names = soup.find('table', class_='yf-269l37 bd')\n",
        "\n",
        "print(table_names)\n"
      ],
      "metadata": {
        "colab": {
          "base_uri": "https://localhost:8080/"
        },
        "id": "8WK6NWZrth-9",
        "outputId": "f38bfb14-e050-415a-f3e4-d08ecd0b0f96"
      },
      "execution_count": null,
      "outputs": [
        {
          "output_type": "stream",
          "name": "stdout",
          "text": [
            "None\n"
          ]
        }
      ]
    },
    {
      "cell_type": "code",
      "source": [
        "# Extract data from the tbody\n",
        "if table_names:\n",
        "    # Loop through rows\n",
        "    for row in table_names.find_all('th'):\n",
        "      #column names use 'th'\n",
        "        print(row.text)\n",
        "    #print(len(row.text))\n",
        "\n",
        "else:\n",
        "    print(\"raw_table not found.\")\n",
        "\n",
        "\n",
        "data_names = []\n",
        "for row in table_names.find_all('th'):\n",
        "    data_names.append(row.text.strip())\n",
        "\n",
        "\n",
        "print(\"   \")\n",
        "print(data_names)\n",
        "\n",
        "print(len(data_names))"
      ],
      "metadata": {
        "colab": {
          "base_uri": "https://localhost:8080/",
          "height": 238
        },
        "id": "5c3bQioPJI7X",
        "outputId": "80ac7c57-29fe-4563-d8a9-86571872396b"
      },
      "execution_count": null,
      "outputs": [
        {
          "output_type": "stream",
          "name": "stdout",
          "text": [
            "raw_table not found.\n"
          ]
        },
        {
          "output_type": "error",
          "ename": "AttributeError",
          "evalue": "'NoneType' object has no attribute 'find_all'",
          "traceback": [
            "\u001b[0;31m---------------------------------------------------------------------------\u001b[0m",
            "\u001b[0;31mAttributeError\u001b[0m                            Traceback (most recent call last)",
            "\u001b[0;32m<ipython-input-12-e88bc659f6e5>\u001b[0m in \u001b[0;36m<cell line: 0>\u001b[0;34m()\u001b[0m\n\u001b[1;32m     12\u001b[0m \u001b[0;34m\u001b[0m\u001b[0m\n\u001b[1;32m     13\u001b[0m \u001b[0mdata_names\u001b[0m \u001b[0;34m=\u001b[0m \u001b[0;34m[\u001b[0m\u001b[0;34m]\u001b[0m\u001b[0;34m\u001b[0m\u001b[0;34m\u001b[0m\u001b[0m\n\u001b[0;32m---> 14\u001b[0;31m \u001b[0;32mfor\u001b[0m \u001b[0mrow\u001b[0m \u001b[0;32min\u001b[0m \u001b[0mtable_names\u001b[0m\u001b[0;34m.\u001b[0m\u001b[0mfind_all\u001b[0m\u001b[0;34m(\u001b[0m\u001b[0;34m'th'\u001b[0m\u001b[0;34m)\u001b[0m\u001b[0;34m:\u001b[0m\u001b[0;34m\u001b[0m\u001b[0;34m\u001b[0m\u001b[0m\n\u001b[0m\u001b[1;32m     15\u001b[0m     \u001b[0mdata_names\u001b[0m\u001b[0;34m.\u001b[0m\u001b[0mappend\u001b[0m\u001b[0;34m(\u001b[0m\u001b[0mrow\u001b[0m\u001b[0;34m.\u001b[0m\u001b[0mtext\u001b[0m\u001b[0;34m.\u001b[0m\u001b[0mstrip\u001b[0m\u001b[0;34m(\u001b[0m\u001b[0;34m)\u001b[0m\u001b[0;34m)\u001b[0m\u001b[0;34m\u001b[0m\u001b[0;34m\u001b[0m\u001b[0m\n\u001b[1;32m     16\u001b[0m \u001b[0;34m\u001b[0m\u001b[0m\n",
            "\u001b[0;31mAttributeError\u001b[0m: 'NoneType' object has no attribute 'find_all'"
          ]
        }
      ]
    },
    {
      "cell_type": "code",
      "source": [
        "# Find the table cell values with the specific class using tbody\n",
        "tbody = soup.find('tbody', class_='body yf-paf8n5')\n",
        "\n",
        "# Extract data from the tbody\n",
        "if tbody:\n",
        "    # Loop through rows\n",
        "    for row in tbody.find_all('tr'):\n",
        "        # Loop through cells\n",
        "        for cell in row.find_all('td'):\n",
        "            print(cell.text)\n",
        "    #cell values use 'tr' and 'td'\n",
        "else:\n",
        "    print(\"Tbody not found.\")"
      ],
      "metadata": {
        "id": "XquP1N-mry1h"
      },
      "execution_count": null,
      "outputs": []
    },
    {
      "cell_type": "markdown",
      "source": [
        "**Turn the data into a dataframe using Pandas**"
      ],
      "metadata": {
        "id": "hBDuRanAtcmL"
      }
    },
    {
      "cell_type": "code",
      "source": [
        "data = []\n",
        "#empty data frame\n",
        "for row in tbody.find_all('tr'):\n",
        "    row_data = []\n",
        "    for cell in row.find_all('td'):\n",
        "        row_data.append(cell.text.strip())\n",
        "    data.append(row_data)\n",
        "#fill in empty dataframe row by row and column by column\n",
        "\n",
        "#create a temporary dataframe for cleaning (optional)\n",
        "df = pd.DataFrame(data)\n",
        "\n",
        "##Our data added the values from column 4 and 5 to column 3\n",
        "## we need to remove the extra information\n",
        "# Function to remove everything after the first space\n",
        "def remove_after_space(text):\n",
        "    if isinstance(text, str):\n",
        "        return text.split(' ')[0]\n",
        "    return text\n",
        "# Apply the function to the column\n",
        "df[3] = df[3].apply(remove_after_space)\n",
        "df"
      ],
      "metadata": {
        "id": "5ZL99OSGsl6d"
      },
      "execution_count": null,
      "outputs": []
    },
    {
      "cell_type": "code",
      "source": [
        "#assign the data_names as the column names\n",
        "df.columns = data_names\n",
        "\n",
        "# Drop the blank columns (had graphs on website)\n",
        "df.drop(df.columns[2], axis=1, inplace=True)\n",
        "df.drop(df.columns[10], axis=1, inplace=True)\n",
        "\n",
        "\n",
        "df"
      ],
      "metadata": {
        "id": "4VfhjcfjzLQH"
      },
      "execution_count": null,
      "outputs": []
    },
    {
      "cell_type": "markdown",
      "source": [
        "**Clean the data**"
      ],
      "metadata": {
        "id": "v8ncF-AWLfOO"
      }
    },
    {
      "cell_type": "code",
      "source": [
        "#### column by column cleaning\n",
        "\n",
        "##Price\n",
        "df['Price'] = pd.to_numeric(df['Price'])\n",
        "\n",
        "##Change\n",
        "df['Change'] = df['Change'].str.replace('+', '', regex=False)\n",
        "#remove '+' but keep '-' to show negative valuse\n",
        "df['Change'] = pd.to_numeric(df['Change'])\n",
        "#make column values numeric ('-' will be read as negative here)\n",
        "\n",
        "##Change %\n",
        "df['Change %'] = df['Change %'].str.replace('+', '', regex=False)\n",
        "df['Change %'] = df['Change %'].str.replace('%', '', regex=False)\n",
        "#remove '+' and '%' signs\n",
        "df['Change %'] = pd.to_numeric(df['Change %'])\n",
        "#change column to numeric\n",
        "df['Change %'] = df['Change %']*0.01\n",
        "#put percent in decimal format for possible calculations\n",
        "\n",
        "###M/B/T values into numeric\n",
        "##Volume\n",
        "df['Volume'] = df['Volume'].str.replace('.', '', regex=False)\n",
        "#get rid of the decimal for ease of computation\n",
        "df['Volume'] = df['Volume'].str.replace('M', '000', regex=False)\n",
        "df['Volume'] = df['Volume'].str.replace('B', '000000', regex=False)\n",
        "df['Volume'] = df['Volume'].str.replace('T', '000000000', regex=False)\n",
        "#add the appropriate number of 0s\n",
        "df['Volume'] = pd.to_numeric(df['Volume'])\n",
        "#change to numeric\n",
        "\n",
        "##Avg Vol (3M)\t(Average volume over 3 months)\n",
        "df['Avg Vol (3M)'] = df['Avg Vol (3M)'].str.replace('.', '', regex=False)\n",
        "#get rid of the decimal for ease of computation\n",
        "df['Avg Vol (3M)'] = df['Avg Vol (3M)'].str.replace('M', '000', regex=False)\n",
        "df['Avg Vol (3M)'] = df['Avg Vol (3M)'].str.replace('B', '000000', regex=False)\n",
        "df['Avg Vol (3M)'] = df['Avg Vol (3M)'].str.replace('T', '000000000', regex=False)\n",
        "#add the appropriate number of 0s\n",
        "df['Avg Vol (3M)'] = pd.to_numeric(df['Avg Vol (3M)'])\n",
        "#change to numeric\n",
        "\n",
        "##Market Cap\n",
        "df['Market Cap'] = df['Market Cap'].str.replace('.', '', regex=False)\n",
        "#get rid of the decimal for ease of computation\n",
        "df['Market Cap'] = df['Market Cap'].str.replace('M', '000', regex=False)\n",
        "df['Market Cap'] = df['Market Cap'].str.replace('B', '000000', regex=False)\n",
        "df['Market Cap'] = df['Market Cap'].str.replace('T', '000000000', regex=False)\n",
        "#add the appropriate number of 0s\n",
        "df['Market Cap'] = pd.to_numeric(df['Market Cap'])\n",
        "#change to numeric\n",
        "\n",
        "##P/E Ratio (TTM)\n",
        "df['P/E Ratio (TTM)'] = df['P/E Ratio (TTM)'].replace('-','0.0')\n",
        "#in this case, the '-' are read literally, not as a null value, so they need to\n",
        "#be replaced manually.  These rows is either a zero or negative value, so they do\n",
        "#not fill it in.  Remember this when using column for computations.\n",
        "df['P/E Ratio (TTM)'] = pd.to_numeric(df['P/E Ratio (TTM)'])\n",
        "#change column to numeric\n",
        "df['P/E Ratio (TTM)']\n",
        "\n",
        "##52 Wk Change %\n",
        "df['52 Wk Change %'] = df['52 Wk Change %'].str.replace('%', '', regex=False)\n",
        "df['52 Wk Change %'] = df['52 Wk Change %'].str.replace(',', '', regex=False)\n",
        "#remove '%' and ',' to allow type to be changed to numeric\n",
        "df['52 Wk Change %'] = pd.to_numeric(df['52 Wk Change %'])\n",
        "#make column numeric\n",
        "df['52 Wk Change %'] = df['52 Wk Change %']*0.01\n",
        "#put percent value in decimal format\n"
      ],
      "metadata": {
        "id": "m940BcMN4FrP"
      },
      "execution_count": null,
      "outputs": []
    },
    {
      "cell_type": "code",
      "source": [
        "##check your work\n",
        "#numeric_columns = df.select_dtypes(include='number')\n",
        "#numeric_columns"
      ],
      "metadata": {
        "id": "CSdMoCbA9IEd"
      },
      "execution_count": null,
      "outputs": []
    },
    {
      "cell_type": "code",
      "source": [
        "#make a permanent dataframe name\n",
        "most_active_stocks = df\n",
        "most_active_stocks"
      ],
      "metadata": {
        "id": "95rMptll1P4m"
      },
      "execution_count": null,
      "outputs": []
    },
    {
      "cell_type": "markdown",
      "source": [
        "**Keep a copy of your dataset**"
      ],
      "metadata": {
        "id": "IQkQkvGmpeoF"
      }
    },
    {
      "cell_type": "code",
      "source": [
        "###most Python\n",
        "\n",
        "#from os import path\n",
        "#print(path)\n",
        "#most_active_stocks.to_csv('most_active_stocks.csv', index=False)\n"
      ],
      "metadata": {
        "id": "gQWLA4axoU0e"
      },
      "execution_count": null,
      "outputs": []
    },
    {
      "cell_type": "code",
      "source": [
        "###Colab notebook\n",
        "\n",
        "##if you want to save it to your google drive\n",
        "#from google.colab import drive\n",
        "#drive.mount('/content/drive')\n",
        "#allow permissions\n",
        "\n",
        "most_active_stocks.to_csv('most_active_stocks.csv', index=False)\n",
        "#create CSV\n",
        "\n",
        "from google.colab import files\n",
        "files.download('most_active_stocks.csv')\n",
        "#download CSV"
      ],
      "metadata": {
        "id": "yLcJpiYCpcXg"
      },
      "execution_count": null,
      "outputs": []
    }
  ]
}